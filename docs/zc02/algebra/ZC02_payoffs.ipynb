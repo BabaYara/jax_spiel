{
  "cells": [
    {
      "cell_type": "markdown",
      "metadata": {},
      "source": [
        "# ZC02 Payoff Derivations\n",
        "\n",
        "This notebook derives the expected utilities $u_{\\text{row}}$ and $u_{\\text{col}}$ for a generic $2\\times 2$ matrix game with mixed strategies."
      ]
    },
    {
      "cell_type": "code",
      "execution_count": null,
      "metadata": {},
      "outputs": [],
      "source": [
        "from pathlib import Path\n",
        "import json\n",
        "import sympy as sp\n",
        "from jax_spiel.zc02.payoffs import expected_row_payoff, expected_column_payoff\n",
        "\n",
        "sp.init_printing()\n"
      ]
    },
    {
      "cell_type": "markdown",
      "metadata": {},
      "source": [
        "## Symbol definitions\n",
        "\n",
        "We model the row player's top action probability as $p$ and the column player's left action probability as $q$. The payoff matrices contain symbols $r_{ij}$ and $c_{ij}$ for the respective player utilities."
      ]
    },
    {
      "cell_type": "code",
      "execution_count": null,
      "metadata": {},
      "outputs": [],
      "source": [
        "p, q = sp.symbols('p q')\n",
        "r_tl, r_tr, r_bl, r_br = sp.symbols('r_tl r_tr r_bl r_br')\n",
        "c_tl, c_tr, c_bl, c_br = sp.symbols('c_tl c_tr c_bl c_br')\n",
        "\n",
        "row_payoffs = ((r_tl, r_tr), (r_bl, r_br))\n",
        "column_payoffs = ((c_tl, c_tr), (c_bl, c_br))\n"
      ]
    },
    {
      "cell_type": "markdown",
      "metadata": {},
      "source": [
        "## Expected payoff derivations\n",
        "\n",
        "Using the helper functions we expand the expected values and simplify them symbolically."
      ]
    },
    {
      "cell_type": "code",
      "execution_count": null,
      "metadata": {},
      "outputs": [],
      "source": [
        "u_row = sp.simplify(expected_row_payoff(p, q, row_payoffs=row_payoffs))\n",
        "u_col = sp.simplify(expected_column_payoff(p, q, column_payoffs=column_payoffs))\n",
        "\n",
        "u_row_expanded = sp.expand(u_row)\n",
        "u_col_expanded = sp.expand(u_col)\n",
        "\n",
        "u_row_factored = sp.factor(u_row, p, q)\n",
        "u_col_factored = sp.factor(u_col, p, q)\n",
        "\n",
        "u_row_expanded, u_col_expanded\n"
      ]
    },
    {
      "cell_type": "markdown",
      "metadata": {},
      "source": [
        "## Export algebra summary\n",
        "\n",
        "The JSON artifact is consumed by PythonTeX so that the LaTeX document can remain synchronized with these symbolic derivations."
      ]
    },
    {
      "cell_type": "code",
      "execution_count": null,
      "metadata": {},
      "outputs": [],
      "source": [
        "summary = {\n",
        "    'parameters': {'p_top': 'p', 'q_left': 'q'},\n",
        "    'row_payoffs': {\n",
        "        'top_left': 'r_tl',\n",
        "        'top_right': 'r_tr',\n",
        "        'bottom_left': 'r_bl',\n",
        "        'bottom_right': 'r_br',\n",
        "    },\n",
        "    'column_payoffs': {\n",
        "        'top_left': 'c_tl',\n",
        "        'top_right': 'c_tr',\n",
        "        'bottom_left': 'c_bl',\n",
        "        'bottom_right': 'c_br',\n",
        "    },\n",
        "    'u_row': {\n",
        "        'expanded': sp.latex(u_row_expanded),\n",
        "        'factored': sp.latex(u_row_factored),\n",
        "        'symbolic': sp.sstr(u_row_expanded),\n",
        "    },\n",
        "    'u_col': {\n",
        "        'expanded': sp.latex(u_col_expanded),\n",
        "        'factored': sp.latex(u_col_factored),\n",
        "        'symbolic': sp.sstr(u_col_expanded),\n",
        "    },\n",
        "}\n",
        "\n",
        "json_path = Path('docs/zc02/algebra/ZC02_payoffs.json')\n",
        "json_path.parent.mkdir(parents=True, exist_ok=True)\n",
        "json_path.write_text(json.dumps(summary, indent=2))\n",
        "summary\n"
      ]
    }
  ],
  "metadata": {
    "kernelspec": {
      "display_name": "Python 3",
      "language": "python",
      "name": "python3"
    },
    "language_info": {
      "file_extension": ".py",
      "mimetype": "text/x-python",
      "name": "python",
      "pygments_lexer": "ipython3",
      "version": "3.11"
    }
  },
  "nbformat": 4,
  "nbformat_minor": 5
}